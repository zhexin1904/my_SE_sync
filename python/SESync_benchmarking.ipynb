{
 "cells": [
  {
   "cell_type": "markdown",
   "id": "d56d9b7b",
   "metadata": {},
   "source": [
    "# SE-Sync benchmarking"
   ]
  },
  {
   "cell_type": "markdown",
   "id": "2bc913e7",
   "metadata": {},
   "source": [
    "This notebook uses SE-Sync's Python bindings to permit easy benchmarking against a collection of large-scale SLAM benchmarks"
   ]
  },
  {
   "cell_type": "code",
   "id": "cb95dfad",
   "metadata": {
    "ExecuteTime": {
     "end_time": "2025-02-06T16:15:04.516943Z",
     "start_time": "2025-02-06T16:15:04.514381Z"
    }
   },
   "source": [
    "import sys\n",
    "import numpy as np\n",
    "import time\n",
    "\n",
    "import pandas as pd\n",
    "from matplotlib import pyplot as plt\n",
    "import seaborn as sns\n",
    "from IPython.display import display  # To get pretty tabular output w/ PANDAS\n",
    "import pickle\n",
    "\n",
    "import PySESync"
   ],
   "outputs": [],
   "execution_count": 4
  },
  {
   "cell_type": "markdown",
   "id": "bcaf11ef",
   "metadata": {},
   "source": [
    "### Test configuration"
   ]
  },
  {
   "cell_type": "markdown",
   "id": "80851b69",
   "metadata": {},
   "source": [
    "#### Test benchmarks"
   ]
  },
  {
   "cell_type": "code",
   "id": "4b184695",
   "metadata": {
    "ExecuteTime": {
     "end_time": "2025-02-06T16:15:08.332872Z",
     "start_time": "2025-02-06T16:15:08.330006Z"
    }
   },
   "source": [
    "# Location of folder containing the benchmarks\n",
    "data_folder = \"../data/\"\n",
    "\n",
    "# Specific list of files to process\n",
    "# files = [\"manhattan\", \"city10000\", \"MIT\", \"CSAIL\", \"intel\", \"sphere2500\", \"torus3D\", \"parking-garage\", \"rim\"]\n",
    "files = [\"sphere2500\"]"
   ],
   "outputs": [],
   "execution_count": 6
  },
  {
   "cell_type": "markdown",
   "id": "7e589774",
   "metadata": {},
   "source": [
    "#### SE-Sync configurations"
   ]
  },
  {
   "cell_type": "code",
   "id": "a7ffafbf",
   "metadata": {
    "ExecuteTime": {
     "end_time": "2025-02-06T16:15:10.091415Z",
     "start_time": "2025-02-06T16:15:10.085397Z"
    }
   },
   "source": [
    "# Set list of SE-Sync configurations to process\n",
    "\n",
    "# Common configurations\n",
    "num_threads = 4\n",
    "verbose = False\n",
    "\n",
    "opts_list = [PySESync.SESyncOpts() for i in range(6)]\n",
    "\n",
    "# Config 0: Simplified w/ chordal init\n",
    "opts_list[0].formulation = PySESync.Formulation.Simplified\n",
    "opts_list[0].initialization = PySESync.Initialization.Chordal\n",
    "opts_list[0].num_threads = 4\n",
    "opts_list[0].verbose = verbose\n",
    "\n",
    "# Config 1: Simplified w/ random init\n",
    "opts_list[1].formulation = PySESync.Formulation.Simplified\n",
    "opts_list[1].initialization = PySESync.Initialization.Random\n",
    "opts_list[1].num_threads = 4\n",
    "opts_list[1].verbose = verbose\n",
    "\n",
    "# Config 2: Explicit w/ chordal init\n",
    "opts_list[2].formulation = PySESync.Formulation.Explicit\n",
    "opts_list[2].initialization = PySESync.Initialization.Chordal\n",
    "opts_list[2].num_threads = 4\n",
    "opts_list[2].verbose = verbose\n",
    "\n",
    "# Config 3: Explicit w/ random init\n",
    "opts_list[3].formulation = PySESync.Formulation.Explicit\n",
    "opts_list[3].initialization = PySESync.Initialization.Random\n",
    "opts_list[3].num_threads = 4\n",
    "opts_list[3].verbose = verbose\n",
    "\n",
    "# Config 4: SOSync w/ chordal init\n",
    "opts_list[4].formulation = PySESync.Formulation.SOSync\n",
    "opts_list[4].initialization = PySESync.Initialization.Chordal\n",
    "opts_list[4].num_threads = 4\n",
    "opts_list[4].verbose = verbose\n",
    "\n",
    "# Config 5: SOSync w/ random init\n",
    "opts_list[5].formulation = PySESync.Formulation.SOSync\n",
    "opts_list[5].initialization = PySESync.Initialization.Random\n",
    "opts_list[5].num_threads = 4\n",
    "opts_list[5].verbose = verbose\n"
   ],
   "outputs": [],
   "execution_count": 7
  },
  {
   "cell_type": "markdown",
   "id": "5acec64b",
   "metadata": {},
   "source": [
    "### Run tests!"
   ]
  },
  {
   "cell_type": "code",
   "id": "12b3055f",
   "metadata": {
    "ExecuteTime": {
     "end_time": "2025-02-06T16:15:58.169927Z",
     "start_time": "2025-02-06T16:15:15.878037Z"
    }
   },
   "source": [
    "# Iterate over the list of benchmarks\n",
    "\n",
    "data = []\n",
    "\n",
    "start_time = time.time()\n",
    "for k, f in enumerate(files):\n",
    "    \n",
    "    # Construct complete path to this file\n",
    "    filename = data_folder + f + \".g2o\"\n",
    "\n",
    "    # Read measurements out of this file\n",
    "    measurements, num_poses = PySESync.read_g2o_file(filename)\n",
    "    \n",
    "    # Get dimension of problem\n",
    "    d = measurements[0].R.shape[0]\n",
    "    \n",
    "    # For each configuration in the test set \n",
    "    for c, opts in enumerate(opts_list):\n",
    "        \n",
    "        # Set initial relaxation rank to be the dimension of this test problem\n",
    "        opts.r0 = d\n",
    "        \n",
    "        # Run SE-Sync with this configuration!\n",
    "        result = PySESync.SESync(measurements, opts)\n",
    "        \n",
    "        # Record results for this test\n",
    "        data.append({\"Config\": c, \"Dataset\" : f, \"Status\" : result.status.name,  \\\n",
    "                    \"Fxhat\" : result.Fxhat, \"GradNorm\" : result.gradnorm, \\\n",
    "                    \"SubOptBound\" : result.suboptimality_bound, \\\n",
    "                    \"TotalTime\" : result.total_computation_time, \\\n",
    "                    #\"InitTime\" : result.initialization_time, \\\n",
    "                    \"OptTime\" : sum(l[-1] for l in result.elapsed_optimization_times), \\\n",
    "                    \"OptIters\" : sum(len(l) for l in result.elapsed_optimization_times), \\\n",
    "                    \"HessVecProds\" : sum(map(sum, result.Hessian_vector_products)), \\\n",
    "                    \"VerTime\" : sum(result.verification_times), \\\n",
    "                    \"VerIters\" : sum(result.LOBPCG_iters), \\\n",
    "                    \"FinalRank\" : result.Yopt.shape[0]})\n",
    "        \n",
    "\n",
    "end_time = time.time()\n",
    "\n",
    "elapsed_time = (end_time - start_time)\n",
    "\n",
    "print(\"All tests finished.  Total computation time: %g seconds\" % elapsed_time)"
   ],
   "outputs": [
    {
     "name": "stdout",
     "output_type": "stream",
     "text": [
      "All tests finished.  Total computation time: 42.2859 seconds\n"
     ]
    }
   ],
   "execution_count": 8
  },
  {
   "cell_type": "markdown",
   "id": "80ed155a",
   "metadata": {},
   "source": [
    "### Analysis"
   ]
  },
  {
   "cell_type": "markdown",
   "id": "c7d6a519",
   "metadata": {},
   "source": [
    "Create a pandas datafrom from the recorded results for further processing"
   ]
  },
  {
   "cell_type": "code",
   "id": "13000bc2",
   "metadata": {
    "scrolled": false,
    "ExecuteTime": {
     "end_time": "2025-02-06T16:17:28.527185Z",
     "start_time": "2025-02-06T16:17:28.514364Z"
    }
   },
   "source": [
    "df = pd.DataFrame(data)\n",
    "display(df)"
   ],
   "outputs": [
    {
     "data": {
      "text/plain": [
       "   Config     Dataset     Status        Fxhat  GradNorm   SubOptBound  \\\n",
       "0       0  sphere2500  GlobalOpt  1687.005678  0.084318  4.001777e-11   \n",
       "1       1  sphere2500  GlobalOpt  1687.005672  0.025772 -2.346193e-06   \n",
       "2       2  sphere2500  GlobalOpt  1687.005671  0.013150 -1.989085e-02   \n",
       "3       3  sphere2500  GlobalOpt  1687.005674  0.055862 -1.262584e-01   \n",
       "4       4  sphere2500  GlobalOpt   885.362577  0.000202 -1.023182e-12   \n",
       "5       5  sphere2500  GlobalOpt   885.362577  0.000455 -4.584990e-10   \n",
       "\n",
       "   TotalTime  OptTime  OptIters  HessVecProds  VerTime  VerIters  FinalRank  \n",
       "0      0.426    0.115         7            21    0.026         0          3  \n",
       "1      3.505    3.417        76           721    0.043         1          4  \n",
       "2      0.606    0.283         8            57    0.026         0          3  \n",
       "3     35.755   35.700       264          8215    0.036         1          4  \n",
       "4      0.319    0.020         4             3    0.016         0          3  \n",
       "5      0.406    0.371        52            37    0.021         1          4  "
      ],
      "text/html": [
       "<div>\n",
       "<style scoped>\n",
       "    .dataframe tbody tr th:only-of-type {\n",
       "        vertical-align: middle;\n",
       "    }\n",
       "\n",
       "    .dataframe tbody tr th {\n",
       "        vertical-align: top;\n",
       "    }\n",
       "\n",
       "    .dataframe thead th {\n",
       "        text-align: right;\n",
       "    }\n",
       "</style>\n",
       "<table border=\"1\" class=\"dataframe\">\n",
       "  <thead>\n",
       "    <tr style=\"text-align: right;\">\n",
       "      <th></th>\n",
       "      <th>Config</th>\n",
       "      <th>Dataset</th>\n",
       "      <th>Status</th>\n",
       "      <th>Fxhat</th>\n",
       "      <th>GradNorm</th>\n",
       "      <th>SubOptBound</th>\n",
       "      <th>TotalTime</th>\n",
       "      <th>OptTime</th>\n",
       "      <th>OptIters</th>\n",
       "      <th>HessVecProds</th>\n",
       "      <th>VerTime</th>\n",
       "      <th>VerIters</th>\n",
       "      <th>FinalRank</th>\n",
       "    </tr>\n",
       "  </thead>\n",
       "  <tbody>\n",
       "    <tr>\n",
       "      <th>0</th>\n",
       "      <td>0</td>\n",
       "      <td>sphere2500</td>\n",
       "      <td>GlobalOpt</td>\n",
       "      <td>1687.005678</td>\n",
       "      <td>0.084318</td>\n",
       "      <td>4.001777e-11</td>\n",
       "      <td>0.426</td>\n",
       "      <td>0.115</td>\n",
       "      <td>7</td>\n",
       "      <td>21</td>\n",
       "      <td>0.026</td>\n",
       "      <td>0</td>\n",
       "      <td>3</td>\n",
       "    </tr>\n",
       "    <tr>\n",
       "      <th>1</th>\n",
       "      <td>1</td>\n",
       "      <td>sphere2500</td>\n",
       "      <td>GlobalOpt</td>\n",
       "      <td>1687.005672</td>\n",
       "      <td>0.025772</td>\n",
       "      <td>-2.346193e-06</td>\n",
       "      <td>3.505</td>\n",
       "      <td>3.417</td>\n",
       "      <td>76</td>\n",
       "      <td>721</td>\n",
       "      <td>0.043</td>\n",
       "      <td>1</td>\n",
       "      <td>4</td>\n",
       "    </tr>\n",
       "    <tr>\n",
       "      <th>2</th>\n",
       "      <td>2</td>\n",
       "      <td>sphere2500</td>\n",
       "      <td>GlobalOpt</td>\n",
       "      <td>1687.005671</td>\n",
       "      <td>0.013150</td>\n",
       "      <td>-1.989085e-02</td>\n",
       "      <td>0.606</td>\n",
       "      <td>0.283</td>\n",
       "      <td>8</td>\n",
       "      <td>57</td>\n",
       "      <td>0.026</td>\n",
       "      <td>0</td>\n",
       "      <td>3</td>\n",
       "    </tr>\n",
       "    <tr>\n",
       "      <th>3</th>\n",
       "      <td>3</td>\n",
       "      <td>sphere2500</td>\n",
       "      <td>GlobalOpt</td>\n",
       "      <td>1687.005674</td>\n",
       "      <td>0.055862</td>\n",
       "      <td>-1.262584e-01</td>\n",
       "      <td>35.755</td>\n",
       "      <td>35.700</td>\n",
       "      <td>264</td>\n",
       "      <td>8215</td>\n",
       "      <td>0.036</td>\n",
       "      <td>1</td>\n",
       "      <td>4</td>\n",
       "    </tr>\n",
       "    <tr>\n",
       "      <th>4</th>\n",
       "      <td>4</td>\n",
       "      <td>sphere2500</td>\n",
       "      <td>GlobalOpt</td>\n",
       "      <td>885.362577</td>\n",
       "      <td>0.000202</td>\n",
       "      <td>-1.023182e-12</td>\n",
       "      <td>0.319</td>\n",
       "      <td>0.020</td>\n",
       "      <td>4</td>\n",
       "      <td>3</td>\n",
       "      <td>0.016</td>\n",
       "      <td>0</td>\n",
       "      <td>3</td>\n",
       "    </tr>\n",
       "    <tr>\n",
       "      <th>5</th>\n",
       "      <td>5</td>\n",
       "      <td>sphere2500</td>\n",
       "      <td>GlobalOpt</td>\n",
       "      <td>885.362577</td>\n",
       "      <td>0.000455</td>\n",
       "      <td>-4.584990e-10</td>\n",
       "      <td>0.406</td>\n",
       "      <td>0.371</td>\n",
       "      <td>52</td>\n",
       "      <td>37</td>\n",
       "      <td>0.021</td>\n",
       "      <td>1</td>\n",
       "      <td>4</td>\n",
       "    </tr>\n",
       "  </tbody>\n",
       "</table>\n",
       "</div>"
      ]
     },
     "metadata": {},
     "output_type": "display_data"
    }
   ],
   "execution_count": 9
  },
  {
   "cell_type": "markdown",
   "id": "e258eb7d",
   "metadata": {},
   "source": [
    "Save this data to disk"
   ]
  },
  {
   "cell_type": "code",
   "id": "e327e4cc",
   "metadata": {
    "ExecuteTime": {
     "end_time": "2025-02-06T16:19:28.812332Z",
     "start_time": "2025-02-06T16:19:28.809455Z"
    }
   },
   "source": "df.to_pickle(\"/home/jason/DPGO/SE-Sync/python/SESync_benchmarking.pkl\")",
   "outputs": [],
   "execution_count": 12
  },
  {
   "cell_type": "markdown",
   "id": "8e239c1c",
   "metadata": {},
   "source": [
    "Read data from disk"
   ]
  },
  {
   "cell_type": "code",
   "id": "15cc44d9",
   "metadata": {
    "ExecuteTime": {
     "end_time": "2025-02-06T16:19:31.292060Z",
     "start_time": "2025-02-06T16:19:31.289264Z"
    }
   },
   "source": "df = pd.read_pickle(\"/home/jason/DPGO/SE-Sync/python/SESync_benchmarking.pkl\")",
   "outputs": [],
   "execution_count": 13
  }
 ],
 "metadata": {
  "kernelspec": {
   "display_name": "Python 3",
   "language": "python",
   "name": "python3"
  },
  "language_info": {
   "codemirror_mode": {
    "name": "ipython",
    "version": 3
   },
   "file_extension": ".py",
   "mimetype": "text/x-python",
   "name": "python",
   "nbconvert_exporter": "python",
   "pygments_lexer": "ipython3",
   "version": "3.10.4"
  }
 },
 "nbformat": 4,
 "nbformat_minor": 5
}
